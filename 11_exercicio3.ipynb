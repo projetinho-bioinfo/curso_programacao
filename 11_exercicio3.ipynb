{
  "nbformat": 4,
  "nbformat_minor": 0,
  "metadata": {
    "kernelspec": {
      "display_name": "Python 3",
      "language": "python",
      "name": "python3"
    },
    "language_info": {
      "codemirror_mode": {
        "name": "ipython",
        "version": 3
      },
      "file_extension": ".py",
      "mimetype": "text/x-python",
      "name": "python",
      "nbconvert_exporter": "python",
      "pygments_lexer": "ipython3",
      "version": "3.8.3"
    },
    "colab": {
      "name": "Cópia de 11-exercicio3.ipynb",
      "provenance": [],
      "collapsed_sections": [
        "puGoqfdnH7S2",
        "cNWhDg_9H7TI",
        "8HF-OMJLH7TX",
        "LXkN3m2xH7Tm",
        "5ejHxRjGH7Tz",
        "jydMQ_C-H7UD",
        "_JbXX1MwH7UR",
        "IYgfdcsAH7Ue",
        "1QASTC8LH7Ur",
        "uSAtVrqVH7U6",
        "MVDdaE1SH7VH",
        "7WpEV8VwH7VU"
      ],
      "include_colab_link": true
    }
  },
  "cells": [
    {
      "cell_type": "markdown",
      "metadata": {
        "id": "view-in-github",
        "colab_type": "text"
      },
      "source": [
        "<a href=\"https://colab.research.google.com/github/projetinho-bioinfo/curso_programacao/blob/joaoc-ramalho/11_exercicio3.ipynb\" target=\"_parent\"><img src=\"https://colab.research.google.com/assets/colab-badge.svg\" alt=\"Open In Colab\"/></a>"
      ]
    },
    {
      "cell_type": "code",
      "metadata": {
        "id": "IzljAsFWH7Sh",
        "outputId": "a725e0c1-0caa-4b5d-8acd-91876076a2a6",
        "colab": {
          "base_uri": "https://localhost:8080/",
          "height": 153
        }
      },
      "source": [
        "## Não se preocupem com essa célula. Ela é só pra essa aula funcionar no Google Colab\n",
        "## Se estiver rodando isso no Colab, Descomente e rode o código abaixo:\n",
        "\n",
        "#!git clone https://github.com/gavieira/curso_programacao\n",
        "#import os\n",
        "#os.chdir('/content/curso_programacao')\n",
        "#!git pull"
      ],
      "execution_count": null,
      "outputs": [
        {
          "output_type": "stream",
          "text": [
            "Cloning into 'curso_programacao'...\n",
            "remote: Enumerating objects: 5, done.\u001b[K\n",
            "remote: Counting objects: 100% (5/5), done.\u001b[K\n",
            "remote: Compressing objects: 100% (5/5), done.\u001b[K\n",
            "remote: Total 157 (delta 0), reused 2 (delta 0), pack-reused 152\u001b[K\n",
            "Receiving objects: 100% (157/157), 661.11 KiB | 6.24 MiB/s, done.\n",
            "Resolving deltas: 100% (88/88), done.\n",
            "Already up to date.\n"
          ],
          "name": "stdout"
        }
      ]
    },
    {
      "cell_type": "markdown",
      "metadata": {
        "id": "vpTkWxcDH7Sz"
      },
      "source": [
        "# Exercícios"
      ]
    },
    {
      "cell_type": "markdown",
      "metadata": {
        "id": "puGoqfdnH7S2"
      },
      "source": [
        "## 1\n",
        "Escreva uma função que retorne o comprimento de uma string:"
      ]
    },
    {
      "cell_type": "code",
      "metadata": {
        "id": "hp8KQPNcH7S5",
        "outputId": "21cab17b-6abe-478a-de89-88bc3f888869",
        "colab": {
          "base_uri": "https://localhost:8080/",
          "height": 34
        }
      },
      "source": [
        "def comprimento_string(string):\n",
        "  return len(string)\n",
        "\n",
        "comprimento_string(\"parangaricotirimicuaro\")"
      ],
      "execution_count": null,
      "outputs": [
        {
          "output_type": "execute_result",
          "data": {
            "text/plain": [
              "22"
            ]
          },
          "metadata": {
            "tags": []
          },
          "execution_count": 2
        }
      ]
    },
    {
      "cell_type": "markdown",
      "metadata": {
        "id": "cNWhDg_9H7TI"
      },
      "source": [
        "## 2\n",
        "Crie uma função que:\n",
        "- Receba uma string como argumento\n",
        "- Retorne uma string que consista na junção das 2 primeiras e 2 últimas letras\n",
        "- Retorne uma string vazia se o argumento tiver menos do que duas letras"
      ]
    },
    {
      "cell_type": "code",
      "metadata": {
        "id": "OhdI4c28H7TK",
        "outputId": "9e66fe30-55af-42f9-8723-c70495767b9f",
        "colab": {
          "base_uri": "https://localhost:8080/",
          "height": 51
        }
      },
      "source": [
        "def juntar_comeco_fim(string):\n",
        "  if len(string) < 2:\n",
        "    return \"\"\n",
        "  else:\n",
        "    return string[:2] + string[-2:]\n",
        "\n",
        "print(juntar_comeco_fim(\"pimenta\"))\n",
        "print(juntar_comeco_fim(\"ava\"))"
      ],
      "execution_count": null,
      "outputs": [
        {
          "output_type": "stream",
          "text": [
            "pita\n",
            "avva\n"
          ],
          "name": "stdout"
        }
      ]
    },
    {
      "cell_type": "markdown",
      "metadata": {
        "id": "8HF-OMJLH7TX"
      },
      "source": [
        "## 3\n",
        "Escreva uma função que:\n",
        "- Receba uma string como argumento\n",
        "- Substitua todas as ocorrências do primeiro caracter por '\\$', exceto pelo próprio primeiro caracter.\n",
        "- Retorne essa string com as substituições.\n",
        "\n",
        "```\n",
        "Ex. de entrada: 'rearranjo'\n",
        "Ex. de saída: 'rea$$anjo'\n",
        "```"
      ]
    },
    {
      "cell_type": "code",
      "metadata": {
        "id": "09J_GpTpOE4a",
        "outputId": "48544b71-f9e2-4632-c707-693e4bf26adf",
        "colab": {
          "base_uri": "https://localhost:8080/",
          "height": 136
        }
      },
      "source": [
        "string = \"banana\"\n",
        "print(len(string))\n",
        "\n",
        "for i in range(0, len(string)):\n",
        "  print(string[i])\n"
      ],
      "execution_count": null,
      "outputs": [
        {
          "output_type": "stream",
          "text": [
            "6\n",
            "b\n",
            "a\n",
            "n\n",
            "a\n",
            "n\n",
            "a\n"
          ],
          "name": "stdout"
        }
      ]
    },
    {
      "cell_type": "code",
      "metadata": {
        "id": "o7UVIbIIH7TZ",
        "outputId": "de5e20f6-3175-45df-cfb9-317649681bbc",
        "colab": {
          "base_uri": "https://localhost:8080/",
          "height": 35
        }
      },
      "source": [
        "def substituir_primeiro_char(string):\n",
        "  nova_string = string[0]\n",
        "  for index in range(1,len(string)):\n",
        "    if string[index] == string[0]:\n",
        "      nova_string = nova_string + '$'\n",
        "    else:\n",
        "      nova_string = nova_string + string[index]\n",
        "  return nova_string\n",
        "\n",
        "substituir_primeiro_char(\"rearranjo\")"
      ],
      "execution_count": null,
      "outputs": [
        {
          "output_type": "execute_result",
          "data": {
            "application/vnd.google.colaboratory.intrinsic+json": {
              "type": "string"
            },
            "text/plain": [
              "'rea$$anjo'"
            ]
          },
          "metadata": {
            "tags": []
          },
          "execution_count": 11
        }
      ]
    },
    {
      "cell_type": "code",
      "metadata": {
        "id": "p_7VpLjiQazf",
        "outputId": "0c1900e0-28d0-4f35-ba33-3044613cc4dd",
        "colab": {
          "base_uri": "https://localhost:8080/",
          "height": 35
        }
      },
      "source": [
        "def substituir_primeiro_char(string):\n",
        "  return string[0] + string[1:].replace(string[0], \"$\")\n",
        "\n",
        "substituir_primeiro_char(\"rearranjo\")"
      ],
      "execution_count": null,
      "outputs": [
        {
          "output_type": "execute_result",
          "data": {
            "application/vnd.google.colaboratory.intrinsic+json": {
              "type": "string"
            },
            "text/plain": [
              "'rea$$anjo'"
            ]
          },
          "metadata": {
            "tags": []
          },
          "execution_count": 13
        }
      ]
    },
    {
      "cell_type": "markdown",
      "metadata": {
        "id": "LXkN3m2xH7Tm"
      },
      "source": [
        "## 4\n",
        "Escreva uma função que:\n",
        "- Retorne uma string que seja a fusão de duas outras strings, separadas pro espaço e com as primeiras letras trocadas entre si\n",
        "\n",
        "Exemplo:\n",
        "```\n",
        "Entrada: 'abc','xyz'\n",
        "Saída: 'xbc ayz'\n",
        "```"
      ]
    },
    {
      "cell_type": "code",
      "metadata": {
        "id": "qiCzDyo4H7To",
        "outputId": "0365ed06-5b7b-4579-912c-0e618d38e85e",
        "colab": {
          "base_uri": "https://localhost:8080/",
          "height": 35
        }
      },
      "source": [
        "def fundir_strings(string1, string2):\n",
        "  return string2[0] + string1[1:] + \" \" + string1[0] + string2[1:]\n",
        "\n",
        "fundir_strings(\"abc\", \"xyz\")"
      ],
      "execution_count": null,
      "outputs": [
        {
          "output_type": "execute_result",
          "data": {
            "application/vnd.google.colaboratory.intrinsic+json": {
              "type": "string"
            },
            "text/plain": [
              "'xbc ayz'"
            ]
          },
          "metadata": {
            "tags": []
          },
          "execution_count": 14
        }
      ]
    },
    {
      "cell_type": "markdown",
      "metadata": {
        "id": "5ejHxRjGH7Tz"
      },
      "source": [
        "## 5\n",
        "Escreva uma função que:\n",
        "- Substitua a última letra de uma palavra por 'asso' \n",
        "- Se a palavra já terminar com 'asso', substituir 'asso' por 'issimo'\n",
        "- Se a palavra já terminar com 'íssimo', substituir 'íssimo' por 'érrimo'\n",
        "- Se a palavra tiver 3 caracteres ou mesmo, não alterar a palavra.\n",
        "- Por último, retorne a string gerada\n",
        "\n",
        "Exemplo:\n",
        "\n",
        "```\n",
        "Entrada 1: \"cansado\"\n",
        "Saída 1: \"cansadasso\"\n",
        "\n",
        "Entrada 1: \"cansadasso\"\n",
        "Saída 1: \"cansadíssimo\"\n",
        "\n",
        "Entrada 1: \"cansadíssimo\"\n",
        "Saída 1: \"cansadérrimo\"\n",
        "\n",
        "Entrada 1: \"olá\"\n",
        "Saída 1: \"olá\"\n"
      ]
    },
    {
      "cell_type": "code",
      "metadata": {
        "id": "Fy9SkCZjH7T1",
        "outputId": "37b5a0b8-7f5a-47ae-c456-defe457e3020",
        "colab": {
          "base_uri": "https://localhost:8080/",
          "height": 35
        }
      },
      "source": [
        "def aumentativo(string):\n",
        "  if string.endswith(\"asso\"):\n",
        "    return string[:-4] + 'íssimo'\n",
        "  elif string.endswith(\"íssimo\"):\n",
        "    return string[:-6] + \"érrimo\"\n",
        "  elif len(string) <= 3:\n",
        "    return string\n",
        "  else:\n",
        "    return string[:-1] + \"asso\"\n",
        "\n",
        "aumentativo(\"cansado\")"
      ],
      "execution_count": null,
      "outputs": [
        {
          "output_type": "execute_result",
          "data": {
            "application/vnd.google.colaboratory.intrinsic+json": {
              "type": "string"
            },
            "text/plain": [
              "'cansadasso'"
            ]
          },
          "metadata": {
            "tags": []
          },
          "execution_count": 24
        }
      ]
    },
    {
      "cell_type": "markdown",
      "metadata": {
        "id": "jydMQ_C-H7UD"
      },
      "source": [
        "## 6\n",
        "Escreva uma função que receba uma string e retorne a mesma string com o primeiro e último caracteres trocados:"
      ]
    },
    {
      "cell_type": "code",
      "metadata": {
        "id": "7PvfLAC3H7UF",
        "outputId": "c881f51a-e068-4a57-e9f4-a36a4b45e340",
        "colab": {
          "base_uri": "https://localhost:8080/",
          "height": 35
        }
      },
      "source": [
        "def troca_prim_ult_char(string):\n",
        "  return string[-1] + string[1:-1] + string[0]\n",
        "\n",
        "troca_prim_ult_char(\"string\")"
      ],
      "execution_count": null,
      "outputs": [
        {
          "output_type": "execute_result",
          "data": {
            "application/vnd.google.colaboratory.intrinsic+json": {
              "type": "string"
            },
            "text/plain": [
              "'gtrins'"
            ]
          },
          "metadata": {
            "tags": []
          },
          "execution_count": 25
        }
      ]
    },
    {
      "cell_type": "markdown",
      "metadata": {
        "id": "_JbXX1MwH7UR"
      },
      "source": [
        "## 7\n",
        "Esreva uma função que remova os caracteres com índice ímpar de uma string:"
      ]
    },
    {
      "cell_type": "code",
      "metadata": {
        "id": "eHpqU9eTH7UU",
        "outputId": "a53c320c-5ab5-4f22-8917-4dfa0c7a1b22",
        "colab": {
          "base_uri": "https://localhost:8080/",
          "height": 35
        }
      },
      "source": [
        "def remove_indice_impar(string):\n",
        "  nova_string = ''\n",
        "  for index in range(0,len(string),2):\n",
        "    nova_string = nova_string + string[index]\n",
        "  return nova_string\n",
        "\n",
        "remove_indice_impar(\"0123456789\")"
      ],
      "execution_count": null,
      "outputs": [
        {
          "output_type": "execute_result",
          "data": {
            "application/vnd.google.colaboratory.intrinsic+json": {
              "type": "string"
            },
            "text/plain": [
              "'02468'"
            ]
          },
          "metadata": {
            "tags": []
          },
          "execution_count": 3
        }
      ]
    },
    {
      "cell_type": "markdown",
      "metadata": {
        "id": "IYgfdcsAH7Ue"
      },
      "source": [
        "## 8\n",
        "Escreva duas funções:\n",
        "- uma que retorne uma string totalmente convertida em maiúsculas\n",
        "- outra que retorne uma string totalmente convertida em minúsculas"
      ]
    },
    {
      "cell_type": "code",
      "metadata": {
        "id": "svItHuHsH7Ug",
        "outputId": "35866cfc-2e01-46a6-f930-8bf5f1cd431f",
        "colab": {
          "base_uri": "https://localhost:8080/",
          "height": 51
        }
      },
      "source": [
        "def maiuscula(string):\n",
        "  return string.upper()\n",
        "\n",
        "def minuscula(string):\n",
        "  return string.lower()\n",
        "\n",
        "print(maiuscula(\"AkRloÇpI\"))\n",
        "print(minuscula(\"AkRloÇpI\"))"
      ],
      "execution_count": null,
      "outputs": [
        {
          "output_type": "stream",
          "text": [
            "AKRLOÇPI\n",
            "akrloçpi\n"
          ],
          "name": "stdout"
        }
      ]
    },
    {
      "cell_type": "markdown",
      "metadata": {
        "id": "1QASTC8LH7Ur"
      },
      "source": [
        "## 9\n",
        "Escreva uma função que remova os espaços de uma string:"
      ]
    },
    {
      "cell_type": "code",
      "metadata": {
        "id": "goQS6IGEH7Ut",
        "outputId": "41b39778-745a-457e-9579-31126a615630",
        "colab": {
          "base_uri": "https://localhost:8080/",
          "height": 35
        }
      },
      "source": [
        "def remove_espacos(string):\n",
        "  return string.replace(\" \", \"\")\n",
        "\n",
        "remove_espacos(\"Naumak Sanmandah Bodanan Abila Un Ken Sowaka!\")"
      ],
      "execution_count": null,
      "outputs": [
        {
          "output_type": "execute_result",
          "data": {
            "application/vnd.google.colaboratory.intrinsic+json": {
              "type": "string"
            },
            "text/plain": [
              "'NaumakSanmandahBodananAbilaUnKenSowaka!'"
            ]
          },
          "metadata": {
            "tags": []
          },
          "execution_count": 5
        }
      ]
    },
    {
      "cell_type": "markdown",
      "metadata": {
        "id": "-tU0aBoUH7U4"
      },
      "source": [
        "**OBS**: Para os próximos exercícios, use os arquivos de texto presentes na pasta \"arquivos\". Pessoalmente, eu recomendo o uso do arquivo em 'arquivos/arquivo_texto.txt', a menos que a questão especifique um arquivo diferente."
      ]
    },
    {
      "cell_type": "markdown",
      "metadata": {
        "id": "uSAtVrqVH7U6"
      },
      "source": [
        "## 10\n",
        "Escreva um script que receba uma string com o caminho para um arquivo de texto e retorne todo o seu conteúdo:"
      ]
    },
    {
      "cell_type": "code",
      "metadata": {
        "id": "EU5mljvyH7U8",
        "outputId": "56a20559-7850-40a4-e3ee-cd7cd63952ca",
        "colab": {
          "base_uri": "https://localhost:8080/"
        }
      },
      "source": [
        "def ler_arquivo(arquivo):\n",
        "  with open(arquivo) as texto:\n",
        "    return texto.read()\n",
        "\n",
        "print(ler_arquivo(\"./arquivos/arquivo_texto.txt\"))"
      ],
      "execution_count": null,
      "outputs": [
        {
          "output_type": "stream",
          "text": [
            "Olá!\n",
            "Esse é um arquivo de texto para o curso de programação em Python.\n",
            "Ele tem só algumas linhas.\n",
            "Que vão ser mostradas na aula sobre manipulação de arquivos.\n"
          ],
          "name": "stdout"
        }
      ]
    },
    {
      "cell_type": "markdown",
      "metadata": {
        "id": "MVDdaE1SH7VH"
      },
      "source": [
        "## 11\n",
        "Escreva um script que receba leia um arquivo de texto e criei outro arquivo (chamado 'linhas_numeradas.txt') com o número da linha antes do texto original, separados por tabulação:\n",
        "\n",
        "Exemplo de arquivo original:\n",
        "```\n",
        "Oi!\n",
        "Esse é um arquivo de texto.\n",
        "Está aqui só pra preencher espaço\n",
        "```\n",
        "\n",
        "Exemplo de novo arquivo:\n",
        "```\n",
        "1    Oi!\n",
        "2    Esse é um arquivo de texto.\n",
        "3    Está aqui só pra preencher espaço\n",
        "```"
      ]
    },
    {
      "cell_type": "code",
      "metadata": {
        "id": "wWgMOd7DH7VK"
      },
      "source": [
        "def criar_arquivo_numerado(arquivo):\n",
        "  contador = 1\n",
        "  with open(arquivo) as texto:\n",
        "    with open(\"./arquivos/arquivo_numerado.txt\", \"w\") as texto_numerado:\n",
        "      for linha in texto:\n",
        "        texto_numerado.write(\"{} {}\".format(contador, linha))\n",
        "        contador += 1\n",
        "\n",
        "criar_arquivo_numerado(\"./arquivos/arquivo_texto.txt\")    "
      ],
      "execution_count": null,
      "outputs": []
    },
    {
      "cell_type": "markdown",
      "metadata": {
        "id": "7WpEV8VwH7VU"
      },
      "source": [
        "## 12\n",
        "Escreva uma função que conte quantas sequências há em um arquivo multifasta (use o arquivo em 'arquivos/multifasta.fasta'):"
      ]
    },
    {
      "cell_type": "code",
      "metadata": {
        "id": "6MN29dlAH7VX",
        "outputId": "7dd00f66-22b7-47c6-e5bc-110ff6bc7050",
        "colab": {
          "base_uri": "https://localhost:8080/",
          "height": 34
        }
      },
      "source": [
        "def conta_multifasta(arquivo_fasta):\n",
        "  contador = 0\n",
        "  with open(arquivo_fasta) as fasta:\n",
        "    for line in fasta:\n",
        "      if line.startswith(\">\"):\n",
        "        contador += 1\n",
        "  return contador\n",
        "\n",
        "print(conta_multifasta(\"./arquivos/multifasta.fasta\"))"
      ],
      "execution_count": null,
      "outputs": [
        {
          "output_type": "stream",
          "text": [
            "3\n"
          ],
          "name": "stdout"
        }
      ]
    },
    {
      "cell_type": "markdown",
      "metadata": {
        "id": "Nzuo_rZuH7Vj"
      },
      "source": [
        "## 13\n",
        "Escreva uma função que conte quantos nucleotídeos há em um arquivo fasta com uma única sequência (use o arquivo em 'arquivos/seq1.fasta'):"
      ]
    },
    {
      "cell_type": "code",
      "metadata": {
        "id": "mgLjVfJHH7Vl",
        "outputId": "449a0051-1f21-4ce8-f902-ed789ca742d4",
        "colab": {
          "base_uri": "https://localhost:8080/",
          "height": 34
        }
      },
      "source": [
        "def tamanho_sequencia(arquivo_fasta):\n",
        "  contador = 0\n",
        "  with open(arquivo_fasta) as fasta:\n",
        "    for line in fasta:\n",
        "      if line.startswith(\">\"):\n",
        "        continue\n",
        "      else:\n",
        "        contador += len(line.strip()) # Strip remove os \\n (newlines)\n",
        "  return contador\n",
        "\n",
        "tamanho_sequencia(\"./arquivos/seq1.fasta\")"
      ],
      "execution_count": null,
      "outputs": [
        {
          "output_type": "execute_result",
          "data": {
            "text/plain": [
              "159"
            ]
          },
          "metadata": {
            "tags": []
          },
          "execution_count": 18
        }
      ]
    },
    {
      "cell_type": "markdown",
      "metadata": {
        "id": "G5iJ_A4wGsV1"
      },
      "source": [
        "## 14\n",
        "\n",
        "Crie uma função que receba uma sequencia de DNA como entrada e retorne a sua tradução em aminoácidos"
      ]
    },
    {
      "cell_type": "code",
      "metadata": {
        "id": "rlTpPn6JFqbL",
        "outputId": "ef41b5f6-c16f-4125-990e-7364b016d30d",
        "colab": {
          "base_uri": "https://localhost:8080/",
          "height": 51
        }
      },
      "source": [
        "# Instalando o Biopython\n",
        "!pip install Biopython"
      ],
      "execution_count": 4,
      "outputs": [
        {
          "output_type": "stream",
          "text": [
            "Requirement already satisfied: Biopython in /usr/local/lib/python3.6/dist-packages (1.78)\n",
            "Requirement already satisfied: numpy in /usr/local/lib/python3.6/dist-packages (from Biopython) (1.18.5)\n"
          ],
          "name": "stdout"
        }
      ]
    },
    {
      "cell_type": "code",
      "metadata": {
        "id": "faOTkwC3FfVp"
      },
      "source": [
        "from Bio.Seq import Seq\n",
        "\n",
        "def transcricao(dnaseq):\n",
        "  return Seq(dnaseq).transcribe()\n",
        "\n",
        "def traducao(dnaseq):\n",
        "  return Seq(dnaseq).translate()\n",
        "\n",
        "def reverso_compl(dnaseq):\n",
        "  return Seq(dnaseq).reverse_complement()"
      ],
      "execution_count": 19,
      "outputs": []
    },
    {
      "cell_type": "code",
      "metadata": {
        "id": "jEJLa_JXFim7",
        "outputId": "54f13cbc-75c7-4817-c5f3-8a391f76dad2",
        "colab": {
          "base_uri": "https://localhost:8080/",
          "height": 129
        }
      },
      "source": [
        "print(f\"nucleotídeos: {len(Seq(\"ATGCGAGTGAGCGACGATGACGATAGA\"))}\")\n",
        "print(f\"aminoácidos ou trincas: {len(traducao(\"ATGCGAGTGAGCGACGATGACGATAGA\"))} )"
      ],
      "execution_count": 17,
      "outputs": [
        {
          "output_type": "error",
          "ename": "SyntaxError",
          "evalue": "ignored",
          "traceback": [
            "\u001b[0;36m  File \u001b[0;32m\"<ipython-input-17-ca964d34bb80>\"\u001b[0;36m, line \u001b[0;32m1\u001b[0m\n\u001b[0;31m    print(f\"nucleotídeos: {len(Seq(\"ATGCGAGTGAGCGACGATGACGATAGA\"))}\")\u001b[0m\n\u001b[0m                                                              ^\u001b[0m\n\u001b[0;31mSyntaxError\u001b[0m\u001b[0;31m:\u001b[0m invalid syntax\n"
          ]
        }
      ]
    },
    {
      "cell_type": "code",
      "metadata": {
        "id": "pl-5Q1h_Hq3p",
        "outputId": "b85e25d9-5f46-4043-b07e-5adf74c6d612",
        "colab": {
          "base_uri": "https://localhost:8080/",
          "height": 34
        }
      },
      "source": [
        "transcricao(\"ATGTAGTTCCTACAGCGCTACGACTACT\")"
      ],
      "execution_count": 20,
      "outputs": [
        {
          "output_type": "execute_result",
          "data": {
            "text/plain": [
              "Seq('AUGUAGUUCCUACAGCGCUACGACUACU')"
            ]
          },
          "metadata": {
            "tags": []
          },
          "execution_count": 20
        }
      ]
    },
    {
      "cell_type": "code",
      "metadata": {
        "id": "hEYYtfd0IAky",
        "outputId": "3662e9ed-b842-48c8-d4db-9966b4935de5",
        "colab": {
          "base_uri": "https://localhost:8080/",
          "height": 34
        }
      },
      "source": [
        "reverso_compl(\"ATGATCGATCGACTACGCATCAGCATCA\")"
      ],
      "execution_count": 21,
      "outputs": [
        {
          "output_type": "execute_result",
          "data": {
            "text/plain": [
              "Seq('TGATGCTGATGCGTAGTCGATCGATCAT')"
            ]
          },
          "metadata": {
            "tags": []
          },
          "execution_count": 21
        }
      ]
    },
    {
      "cell_type": "code",
      "metadata": {
        "id": "JjsgGpncKC9R"
      },
      "source": [
        ""
      ],
      "execution_count": null,
      "outputs": []
    }
  ]
}