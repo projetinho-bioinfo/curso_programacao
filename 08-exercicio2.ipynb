{
  "nbformat": 4,
  "nbformat_minor": 0,
  "metadata": {
    "kernelspec": {
      "display_name": "Python 3",
      "language": "python",
      "name": "python3"
    },
    "language_info": {
      "codemirror_mode": {
        "name": "ipython",
        "version": 3
      },
      "file_extension": ".py",
      "mimetype": "text/x-python",
      "name": "python",
      "nbconvert_exporter": "python",
      "pygments_lexer": "ipython3",
      "version": "3.8.3"
    },
    "colab": {
      "name": "08-exercicio2.ipynb",
      "provenance": []
    }
  },
  "cells": [
    {
      "cell_type": "markdown",
      "metadata": {
        "id": "nHUrWD6ibYG8"
      },
      "source": [
        "# Exercícios"
      ]
    },
    {
      "cell_type": "markdown",
      "metadata": {
        "id": "Y4c-1W_9bYG-"
      },
      "source": [
        "## 1\n",
        "Crie uma função que receba uma lista como argumento e some todos os seus itens."
      ]
    },
    {
      "cell_type": "code",
      "metadata": {
        "id": "xhQA1QV6bYG_",
        "outputId": "3c912d59-e7ad-43c6-cd50-08d3345d0c51",
        "colab": {
          "base_uri": "https://localhost:8080/",
          "height": 34
        }
      },
      "source": [
        "sum([1, 2, 3, 4, 5])"
      ],
      "execution_count": null,
      "outputs": [
        {
          "output_type": "execute_result",
          "data": {
            "text/plain": [
              "15"
            ]
          },
          "metadata": {
            "tags": []
          },
          "execution_count": 5
        }
      ]
    },
    {
      "cell_type": "markdown",
      "metadata": {
        "id": "HKtGkaV7bYHE"
      },
      "source": [
        "## 2\n",
        "Crie uma função que: \n",
        "- receba uma lista e um número como argumentos, e \n",
        "- retorne uma nova lista com cada elemento da lista original multiplicado pelo número"
      ]
    },
    {
      "cell_type": "code",
      "metadata": {
        "id": "lxpzb2vDbYHF",
        "outputId": "c1b1d1c8-5f99-48f0-a6f3-870294292bd3",
        "colab": {
          "base_uri": "https://localhost:8080/",
          "height": 69
        }
      },
      "source": [
        "def multiplicação(lista, num):\n",
        "  for item in lista:\n",
        "      print([item*num])\n",
        "multiplicação([2, 4, 5,], 2)"
      ],
      "execution_count": 5,
      "outputs": [
        {
          "output_type": "stream",
          "text": [
            "[4]\n",
            "[8]\n",
            "[10]\n"
          ],
          "name": "stdout"
        }
      ]
    },
    {
      "cell_type": "markdown",
      "metadata": {
        "id": "VbpmOdg0bYHJ"
      },
      "source": [
        "## 3\n",
        "Crie uma função que retorne o maior número presente em uma lista"
      ]
    },
    {
      "cell_type": "code",
      "metadata": {
        "id": "C8234cabbYHK",
        "outputId": "d3f52da5-f21b-4a2b-c122-d434d0a2cc3b",
        "colab": {
          "base_uri": "https://localhost:8080/",
          "height": 35
        }
      },
      "source": [
        "def maior_num_lista(lista):\n",
        "  maior_num = None\n",
        "  for item in lista:\n",
        "    if maior_num == None: \n",
        "      maior_num = item # Salva o primeiro valor como maior_num\n",
        "    elif item > maior_num:\n",
        "      maior_num = item # Salva se o valor atual for maior que o último valor \n",
        "  return maior_num\n",
        "\n",
        "maior_num_lista([1, 10, 200])"
      ],
      "execution_count": 4,
      "outputs": [
        {
          "output_type": "execute_result",
          "data": {
            "text/plain": [
              "200"
            ]
          },
          "metadata": {
            "tags": []
          },
          "execution_count": 4
        }
      ]
    },
    {
      "cell_type": "code",
      "metadata": {
        "id": "1MEOfSGdhhcN",
        "outputId": "eaaa8fb7-304c-456a-9611-28abf1787064",
        "colab": {
          "base_uri": "https://localhost:8080/",
          "height": 35
        }
      },
      "source": [
        "números = [1, 2, 5, 2, 7, 4, 4, 15, 8]\n",
        "números.sort()\n",
        "print(números[-1])"
      ],
      "execution_count": 3,
      "outputs": [
        {
          "output_type": "stream",
          "text": [
            "15\n"
          ],
          "name": "stdout"
        }
      ]
    },
    {
      "cell_type": "markdown",
      "metadata": {
        "id": "uhWbEYZTbYHN"
      },
      "source": [
        "## 4\n",
        "Crie uma função que remova valores duplicados de uma lista"
      ]
    },
    {
      "cell_type": "code",
      "metadata": {
        "id": "EMkt0yfRbYHO",
        "outputId": "aed0cfec-36b6-49df-8c54-067512f9bb86",
        "colab": {
          "base_uri": "https://localhost:8080/",
          "height": 34
        }
      },
      "source": [
        "def remove_duplicado(lista):\n",
        "  lista_unica = []\n",
        "  for item in lista:\n",
        "    if item not in lista_unica:\n",
        "      lista_unica.append(item)\n",
        "  return lista_unica\n",
        "\n",
        "remove_duplicado([1, 20, 20, 30, \"cão\", \"cão\", \"gato\"])"
      ],
      "execution_count": null,
      "outputs": [
        {
          "output_type": "execute_result",
          "data": {
            "text/plain": [
              "[1, 20, 30, 'cão', 'gato']"
            ]
          },
          "metadata": {
            "tags": []
          },
          "execution_count": 23
        }
      ]
    },
    {
      "cell_type": "markdown",
      "metadata": {
        "id": "dPWhzKRFbYHS"
      },
      "source": [
        "## 5\n",
        "Crie uma função que cheque se uma lista é vazia ou não, a qual deve:\n",
        "- Retornar verdadeiro (True) se a lista tiver algum elemento\n",
        "- Retornar falso (False) se a lista for vazia"
      ]
    },
    {
      "cell_type": "code",
      "metadata": {
        "id": "RkaIV-zcbYHT",
        "outputId": "87331172-397a-4604-e85e-ae552fc87c18",
        "colab": {
          "base_uri": "https://localhost:8080/",
          "height": 35
        }
      },
      "source": [
        "def verificação(lista):\n",
        "   print(lista!=[])\n",
        "verificação(números)"
      ],
      "execution_count": 6,
      "outputs": [
        {
          "output_type": "stream",
          "text": [
            "True\n"
          ],
          "name": "stdout"
        }
      ]
    },
    {
      "cell_type": "markdown",
      "metadata": {
        "id": "on08ajlmbYHX"
      },
      "source": [
        "## 6\n",
        "Escreva uma função que receba duas listas e:\n",
        "- Retorne verdadeiro se as listas tiverem algum elemento em comum\n",
        "- Retorne falso caso contrário"
      ]
    },
    {
      "cell_type": "code",
      "metadata": {
        "id": "6U1lFjR4bYHY",
        "outputId": "28b820ae-e028-4776-c774-49f32f17fc2e",
        "colab": {
          "base_uri": "https://localhost:8080/",
          "height": 50
        }
      },
      "source": [
        "números = [1, 2, 5, 2, 7, 4, 4, 15, 8]\n",
        "números2 = [1, 2, 3, 4, 5, 6]\n",
        "for num1 in números:\n",
        " for num2 in números2:\n",
        "      if [num1]==[num2]:\n",
        "      return (True)\n",
        "        break\n",
        "else:\n",
        "    print(False)\n",
        "#não consegui dazer sem ser comparando os elementos 1 por 1"
      ],
      "execution_count": null,
      "outputs": [
        {
          "output_type": "stream",
          "text": [
            "False\n",
            "True\n"
          ],
          "name": "stdout"
        }
      ]
    },
    {
      "cell_type": "markdown",
      "metadata": {
        "id": "CfEq3czubYHc"
      },
      "source": [
        "## 7\n",
        "Escreva uma função que retorne uma lista de números que:\n",
        "- Sejam divisíveis por 7 **E** múltiplos de 5\n",
        "- Estejam entre 1500 e 2700"
      ]
    },
    {
      "cell_type": "code",
      "metadata": {
        "id": "yvFKLz7Cl9t4",
        "outputId": "1825bef0-927c-410e-aa8f-d1ecfd26ffea",
        "colab": {
          "base_uri": "https://localhost:8080/",
          "height": 34
        }
      },
      "source": [
        ""
      ],
      "execution_count": null,
      "outputs": [
        {
          "output_type": "execute_result",
          "data": {
            "text/plain": [
              "0"
            ]
          },
          "metadata": {
            "tags": []
          },
          "execution_count": 28
        }
      ]
    },
    {
      "cell_type": "code",
      "metadata": {
        "id": "9_bnSRuvbYHd",
        "outputId": "d6e62a1a-2baf-44c5-ea29-3909d32c6206",
        "colab": {
          "base_uri": "https://localhost:8080/",
          "height": 54
        }
      },
      "source": [
        " list(range(1505, 2701, 35))"
      ],
      "execution_count": null,
      "outputs": [
        {
          "output_type": "stream",
          "text": [
            "[1505, 1540, 1575, 1610, 1645, 1680, 1715, 1750, 1785, 1820, 1855, 1890, 1925, 1960, 1995, 2030, 2065, 2100, 2135, 2170, 2205, 2240, 2275, 2310, 2345, 2380, 2415, 2450, 2485, 2520, 2555, 2590, 2625, 2660, 2695]\n"
          ],
          "name": "stdout"
        }
      ]
    },
    {
      "cell_type": "markdown",
      "metadata": {
        "id": "pZs53KbSbYHh"
      },
      "source": [
        "## 8\n",
        "Escreva uma função que retorne uma lista de números que:\n",
        "- Sejam divisíveis por 7 **OU** múltiplos de 5\n",
        "- Estejam entre 1500 e 2700"
      ]
    },
    {
      "cell_type": "code",
      "metadata": {
        "id": "fewf06pCnAWU",
        "outputId": "210dc626-fc52-4270-9b28-fbfafff38989",
        "colab": {
          "base_uri": "https://localhost:8080/",
          "height": 54
        }
      },
      "source": [
        "list(range(1505, 2701, 7)) + list(range(1500, 2701, 5))"
      ],
      "execution_count": null,
      "outputs": [
        {
          "output_type": "stream",
          "text": [
            "[1500, 1505, 1510, 1512, 1515, 1519, 1520, 1525, 1526, 1530, 1533, 1535, 1540, 1545, 1547, 1550, 1554, 1555, 1560, 1561, 1565, 1568, 1570, 1575, 1580, 1582, 1585, 1589, 1590, 1595, 1596, 1600, 1603, 1605, 1610, 1615, 1617, 1620, 1624, 1625, 1630, 1631, 1635, 1638, 1640, 1645, 1650, 1652, 1655, 1659, 1660, 1665, 1666, 1670, 1673, 1675, 1680, 1685, 1687, 1690, 1694, 1695, 1700, 1701, 1705, 1708, 1710, 1715, 1720, 1722, 1725, 1729, 1730, 1735, 1736, 1740, 1743, 1745, 1750, 1755, 1757, 1760, 1764, 1765, 1770, 1771, 1775, 1778, 1780, 1785, 1790, 1792, 1795, 1799, 1800, 1805, 1806, 1810, 1813, 1815, 1820, 1825, 1827, 1830, 1834, 1835, 1840, 1841, 1845, 1848, 1850, 1855, 1860, 1862, 1865, 1869, 1870, 1875, 1876, 1880, 1883, 1885, 1890, 1895, 1897, 1900, 1904, 1905, 1910, 1911, 1915, 1918, 1920, 1925, 1930, 1932, 1935, 1939, 1940, 1945, 1946, 1950, 1953, 1955, 1960, 1965, 1967, 1970, 1974, 1975, 1980, 1981, 1985, 1988, 1990, 1995, 2000, 2002, 2005, 2009, 2010, 2015, 2016, 2020, 2023, 2025, 2030, 2035, 2037, 2040, 2044, 2045, 2050, 2051, 2055, 2058, 2060, 2065, 2070, 2072, 2075, 2079, 2080, 2085, 2086, 2090, 2093, 2095, 2100, 2105, 2107, 2110, 2114, 2115, 2120, 2121, 2125, 2128, 2130, 2135, 2140, 2142, 2145, 2149, 2150, 2155, 2156, 2160, 2163, 2165, 2170, 2175, 2177, 2180, 2184, 2185, 2190, 2191, 2195, 2198, 2200, 2205, 2210, 2212, 2215, 2219, 2220, 2225, 2226, 2230, 2233, 2235, 2240, 2245, 2247, 2250, 2254, 2255, 2260, 2261, 2265, 2268, 2270, 2275, 2280, 2282, 2285, 2289, 2290, 2295, 2296, 2300, 2303, 2305, 2310, 2315, 2317, 2320, 2324, 2325, 2330, 2331, 2335, 2338, 2340, 2345, 2350, 2352, 2355, 2359, 2360, 2365, 2366, 2370, 2373, 2375, 2380, 2385, 2387, 2390, 2394, 2395, 2400, 2401, 2405, 2408, 2410, 2415, 2420, 2422, 2425, 2429, 2430, 2435, 2436, 2440, 2443, 2445, 2450, 2455, 2457, 2460, 2464, 2465, 2470, 2471, 2475, 2478, 2480, 2485, 2490, 2492, 2495, 2499, 2500, 2505, 2506, 2510, 2513, 2515, 2520, 2525, 2527, 2530, 2534, 2535, 2540, 2541, 2545, 2548, 2550, 2555, 2560, 2562, 2565, 2569, 2570, 2575, 2576, 2580, 2583, 2585, 2590, 2595, 2597, 2600, 2604, 2605, 2610, 2611, 2615, 2618, 2620, 2625, 2630, 2632, 2635, 2639, 2640, 2645, 2646, 2650, 2653, 2655, 2660, 2665, 2667, 2670, 2674, 2675, 2680, 2681, 2685, 2688, 2690, 2695, 2700]\n"
          ],
          "name": "stdout"
        }
      ]
    },
    {
      "cell_type": "markdown",
      "metadata": {
        "id": "MEkbUR06bYHj"
      },
      "source": [
        "## 9\n",
        "Escreva uma função que imprima na tela todos os números de 0 a 6, com exceção de 3 e 6.\n",
        "- Dica: Use a palavra-chave \"continue\""
      ]
    },
    {
      "cell_type": "code",
      "metadata": {
        "id": "vn1zOgtibYHk",
        "outputId": "644a1227-7bc1-40c8-d63d-fd70a9ea32c8",
        "colab": {
          "base_uri": "https://localhost:8080/",
          "height": 101
        }
      },
      "source": [
        "l3 = [0, 1, 2, 3, 4, 5, 6]\n",
        "l3.remove(3)\n",
        "l3.remove(6)\n",
        "for num in l3:\n",
        "  print(num)"
      ],
      "execution_count": null,
      "outputs": [
        {
          "output_type": "stream",
          "text": [
            "0\n",
            "1\n",
            "2\n",
            "4\n",
            "5\n"
          ],
          "name": "stdout"
        }
      ]
    },
    {
      "cell_type": "markdown",
      "metadata": {
        "id": "fOqN2HCvbYHo"
      },
      "source": [
        "## 10\n",
        "Escreva uma função que cheque se uma letra é uma vogal ou uma consoante, retornando:\n",
        "- Verdadeiro se for vogal\n",
        "- Falso se for consoante"
      ]
    },
    {
      "cell_type": "code",
      "metadata": {
        "id": "GFwhutU6bYHo",
        "outputId": "4b038d6e-acf8-41c7-fce8-ad4cbd3f8bdc",
        "colab": {
          "base_uri": "https://localhost:8080/",
          "height": 50
        }
      },
      "source": [
        "vogais = ['a', 'e', 'i', 'o', 'u']\n",
        "def verif(letra2):\n",
        "  for letra in vogais:\n",
        "    if letra == letra2:\n",
        "      return (\"verdadeiro\")\n",
        "  else:\n",
        "      print(\"falso\")\n",
        "verif('a')\n"
      ],
      "execution_count": null,
      "outputs": [
        {
          "output_type": "stream",
          "text": [
            "True\n",
            "False\n"
          ],
          "name": "stdout"
        }
      ]
    },
    {
      "cell_type": "markdown",
      "metadata": {
        "id": "3EJm4XlWbYHs"
      },
      "source": [
        "## 11\n",
        "Escreva uma função que imprima o seguinte padrão na tela:\n",
        "\n",
        "```\n",
        "1\n",
        "22\n",
        "333\n",
        "4444\n",
        "55555\n",
        "666666\n",
        "7777777\n",
        "88888888\n",
        "999999999\n",
        "```"
      ]
    },
    {
      "cell_type": "code",
      "metadata": {
        "id": "rrOcc8FhbYHt",
        "outputId": "4a83dcdb-90f2-4778-e719-22c4e0a1619d",
        "colab": {
          "base_uri": "https://localhost:8080/",
          "height": 173
        }
      },
      "source": [
        "num_l = ['1', '2', '3', '4', '5', '6', '7', '8', '9']\n",
        "num_n = [1, 2, 3, 4, 5, 6, 7, 8, 9]\n",
        "for num in num_l:\n",
        "  for n in num_n:\n",
        "    print(num*n)\n",
        "    if num == str(n):\n",
        "     num_n.remove(n)\n",
        "    break"
      ],
      "execution_count": 2,
      "outputs": [
        {
          "output_type": "stream",
          "text": [
            "1\n",
            "22\n",
            "333\n",
            "4444\n",
            "55555\n",
            "666666\n",
            "7777777\n",
            "88888888\n",
            "999999999\n"
          ],
          "name": "stdout"
        }
      ]
    },
    {
      "cell_type": "markdown",
      "metadata": {
        "id": "XdyyL7NcbYHw"
      },
      "source": [
        "## 12\n",
        "Para uma equação de segundo grau $ax^2 + bx + c$, o número de raízes reais é definido pelo valor de delta <nobr>($ \\Delta = b^2 -4ac $).</nobr>\n",
        "\n",
        "- Se $ \\Delta > 0 $ : Duas raízes\n",
        "- Se $ \\Delta = 0 $ : Uma raíz\n",
        "- Se $ \\Delta < 0 $ : Nenhuma raíz\n",
        "\n",
        "Assim sendo, escreva uma função que receba os coeficientes da equação de 2º grau (a, b e c) e, com base nesses coeficientes, te diga automaticamente quantas raízes essa equação possui."
      ]
    },
    {
      "cell_type": "code",
      "metadata": {
        "id": "esFQgHhHbYHx",
        "outputId": "3c18476a-1442-4022-dce4-0297a280fb02",
        "colab": {
          "base_uri": "https://localhost:8080/",
          "height": 34
        }
      },
      "source": [
        "def quantas_raizes(a, b, c):\n",
        "  delta = b**2 - 4*a*c\n",
        "  if delta > 0:\n",
        "    print(\"Duas raízes\")\n",
        "  elif delta == 0:\n",
        "    print(\"Uma raiz\")\n",
        "  else:\n",
        "    print(\"Nenhuma raiz\")\n",
        "\n",
        "quantas_raizes(1,1,1)"
      ],
      "execution_count": null,
      "outputs": [
        {
          "output_type": "stream",
          "text": [
            "Nenhuma raiz\n"
          ],
          "name": "stdout"
        }
      ]
    },
    {
      "cell_type": "markdown",
      "metadata": {
        "id": "jVuEMhDGbYH1"
      },
      "source": [
        "## 13 \n",
        "\n",
        "Crie uma função que receba os coeficientes de uma equação de 2º grau (a, b e c) e retorne o valor de sua(s) raíz(es) ou imprima a mensagem \"Sem raíz real\" caso não possua raíz.\n",
        "\n",
        "Lembre-se que a resolução das raízes é feita usando a **Fórmula de Bhaskara**:\n",
        "\n",
        "<p style=\"font-size:16pt; text-align:center\"> $ x = \\frac{-b \\pm\\sqrt{b^2 - 4ac}}{2a} $</p>"
      ]
    },
    {
      "cell_type": "code",
      "metadata": {
        "id": "edi-1rrMbYH2",
        "outputId": "6742199a-6629-4644-fe1d-2329a2ffd527",
        "colab": {
          "base_uri": "https://localhost:8080/",
          "height": 35
        }
      },
      "source": [
        "def bhaskara(a, b, c):\n",
        "  delta = b**2 - 4*a*c\n",
        "  bhaskara1 = (-b + delta**0.5) / 2*a\n",
        "  bhaskara2 = (-b - delta**0.5) / 2*a\n",
        "  if delta > 0:\n",
        "    return \"Duas raízes: {} e {}\".format(bhaskara1, bhaskara2)\n",
        "  elif delta == 0:\n",
        "    return \"Uma raiz: {}\".format(bhaskara1)\n",
        "  else:\n",
        "    return \"Sem raiz real\"\n",
        "\n",
        "bhaskara(1,5,1)"
      ],
      "execution_count": null,
      "outputs": [
        {
          "output_type": "execute_result",
          "data": {
            "application/vnd.google.colaboratory.intrinsic+json": {
              "type": "string"
            },
            "text/plain": [
              "'Duas raízes: -0.20871215252208009 e -4.7912878474779195'"
            ]
          },
          "metadata": {
            "tags": []
          },
          "execution_count": 46
        }
      ]
    }
  ]
}