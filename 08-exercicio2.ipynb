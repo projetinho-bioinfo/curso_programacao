{
  "nbformat": 4,
  "nbformat_minor": 0,
  "metadata": {
    "kernelspec": {
      "display_name": "Python 3",
      "language": "python",
      "name": "python3"
    },
    "language_info": {
      "codemirror_mode": {
        "name": "ipython",
        "version": 3
      },
      "file_extension": ".py",
      "mimetype": "text/x-python",
      "name": "python",
      "nbconvert_exporter": "python",
      "pygments_lexer": "ipython3",
      "version": "3.8.3"
    },
    "colab": {
      "name": "08-exercicio2.ipynb",
      "provenance": []
    }
  },
  "cells": [
    {
      "cell_type": "markdown",
      "metadata": {
        "id": "umagzVo6RVdE"
      },
      "source": [
        "# Exercícios"
      ]
    },
    {
      "cell_type": "markdown",
      "metadata": {
        "id": "HIByK4HyRVdX"
      },
      "source": [
        "## 1\n",
        "Crie uma função que receba uma lista como argumento e some todos os seus itens."
      ]
    },
    {
      "cell_type": "code",
      "metadata": {
        "id": "p2VICaRqRVdg",
        "outputId": "46e0c840-e3a2-4f9d-ec9d-be90b9e09f2a",
        "colab": {
          "base_uri": "https://localhost:8080/",
          "height": 34
        }
      },
      "source": [
        "def soma_elem_lista(lista):\n",
        "  soma = 0\n",
        "  for elem in lista:\n",
        "    soma = soma + elem\n",
        "  return soma \n",
        "soma_elem_lista([1,2,3,4,5])"
      ],
      "execution_count": 10,
      "outputs": [
        {
          "output_type": "execute_result",
          "data": {
            "text/plain": [
              "15"
            ]
          },
          "metadata": {
            "tags": []
          },
          "execution_count": 10
        }
      ]
    },
    {
      "cell_type": "markdown",
      "metadata": {
        "id": "sZGil0ZSRVeE"
      },
      "source": [
        "## 2\n",
        "Crie uma função que: \n",
        "- receba uma lista e um número como argumentos, e \n",
        "- retorne uma nova lista com cada elemento da lista original multiplicado pelo número"
      ]
    },
    {
      "cell_type": "code",
      "metadata": {
        "id": "-f7C8AhQRVeH",
        "outputId": "119e9363-dce7-4e92-99d7-9a36d2483105",
        "colab": {
          "base_uri": "https://localhost:8080/",
          "height": 34
        }
      },
      "source": [
        "def lista_multiplicada(lista, multiplicador):\n",
        "  nova_lista = []\n",
        "  for item in lista:\n",
        "    nova_lista.append(multiplicador*item)\n",
        "  return nova_lista \n",
        "lista_multiplicada([2,3,4,5], 10)"
      ],
      "execution_count": 11,
      "outputs": [
        {
          "output_type": "execute_result",
          "data": {
            "text/plain": [
              "[20, 30, 40, 50]"
            ]
          },
          "metadata": {
            "tags": []
          },
          "execution_count": 11
        }
      ]
    },
    {
      "cell_type": "markdown",
      "metadata": {
        "id": "e7ASdoH-RVeY"
      },
      "source": [
        "## 3\n",
        "Crie uma função que retorne o maior número presente em uma lista"
      ]
    },
    {
      "cell_type": "code",
      "metadata": {
        "id": "SC7jJiseRVe1",
        "outputId": "554ee304-3421-45fb-bfec-b170fc8f9b9c",
        "colab": {
          "base_uri": "https://localhost:8080/",
          "height": 34
        }
      },
      "source": [
        "def maior_num_lista(lista):\n",
        "  maior_num = None \n",
        "  for item in lista:\n",
        "    if maior_num == None:\n",
        "      maior_num = item \n",
        "    elif item > maior_num:\n",
        "      maior_num = item \n",
        "  return maior_num \n",
        "maior_num_lista([10, 100, 1000])"
      ],
      "execution_count": 14,
      "outputs": [
        {
          "output_type": "execute_result",
          "data": {
            "text/plain": [
              "1000"
            ]
          },
          "metadata": {
            "tags": []
          },
          "execution_count": 14
        }
      ]
    },
    {
      "cell_type": "markdown",
      "metadata": {
        "id": "j3SsOKGnRVgf"
      },
      "source": [
        "## 4\n",
        "Crie uma função que remova valores duplicados de uma lista"
      ]
    },
    {
      "cell_type": "code",
      "metadata": {
        "id": "k_QpH004RVgq",
        "outputId": "38d07b31-f668-4805-bbaf-443f40074127",
        "colab": {
          "base_uri": "https://localhost:8080/",
          "height": 34
        }
      },
      "source": [
        "def remove_duplicado(lista):\n",
        "  lista_unica = []\n",
        "  for item in lista:\n",
        "    if item not in lista_unica:\n",
        "      lista_unica.append(item)\n",
        "  return lista_unica \n",
        "remove_duplicado([2,3,3,\"mari\",\"mari\"])"
      ],
      "execution_count": 15,
      "outputs": [
        {
          "output_type": "execute_result",
          "data": {
            "text/plain": [
              "[2, 3, 'mari']"
            ]
          },
          "metadata": {
            "tags": []
          },
          "execution_count": 15
        }
      ]
    },
    {
      "cell_type": "markdown",
      "metadata": {
        "id": "d3ZAAA0XRViD"
      },
      "source": [
        "## 5\n",
        "Crie uma função que cheque se uma lista é vazia ou não, a qual deve:\n",
        "- Retornar verdadeiro (True) se a lista tiver algum elemento\n",
        "- Retornar falso (False) se a lista for vazia"
      ]
    },
    {
      "cell_type": "code",
      "metadata": {
        "id": "XBlUV4hmRViN",
        "outputId": "f4977cf2-4b45-4390-9bc1-5a2ba0079247",
        "colab": {
          "base_uri": "https://localhost:8080/",
          "height": 51
        }
      },
      "source": [
        "def checa_lista(lista):\n",
        "  if len(lista) == 0:\n",
        "    return False \n",
        "  else:\n",
        "    return True \n",
        "print(checa_lista([]))\n",
        "print(checa_lista([2]))"
      ],
      "execution_count": 16,
      "outputs": [
        {
          "output_type": "stream",
          "text": [
            "False\n",
            "True\n"
          ],
          "name": "stdout"
        }
      ]
    },
    {
      "cell_type": "markdown",
      "metadata": {
        "id": "sNpevsw5RVij"
      },
      "source": [
        "## 6\n",
        "Escreva uma função que receba duas listas e:\n",
        "- Retorne verdadeiro se as listas tiverem algum elemento em comum\n",
        "- Retorne falso caso contrário"
      ]
    },
    {
      "cell_type": "code",
      "metadata": {
        "id": "XSyYa0cCRVix",
        "outputId": "8d0b1b05-0c84-4165-be9e-f6e4bc0d2a82",
        "colab": {
          "base_uri": "https://localhost:8080/",
          "height": 51
        }
      },
      "source": [
        "def checa_elem_listas(lista1, lista2):\n",
        "  for item in lista1:\n",
        "    if item in lista2:\n",
        "      return True \n",
        "  return False \n",
        "print(checa_elem_listas([2,3,4,7],[7,7,8,9]))\n",
        "print(checa_elem_listas([2,3,4],[7,8,9]))\n"
      ],
      "execution_count": 17,
      "outputs": [
        {
          "output_type": "stream",
          "text": [
            "True\n",
            "False\n"
          ],
          "name": "stdout"
        }
      ]
    },
    {
      "cell_type": "markdown",
      "metadata": {
        "id": "jokc1522RVji"
      },
      "source": [
        "## 7\n",
        "Escreva uma função que retorne uma lista de números que:\n",
        "- Sejam divisíveis por 7 **E** múltiplos de 5\n",
        "- Estejam entre 1500 e 2700"
      ]
    },
    {
      "cell_type": "code",
      "metadata": {
        "id": "gUaYQN8ARVjv",
        "outputId": "8773e23a-7421-4d0b-912b-ff587f43cb9b",
        "colab": {
          "base_uri": "https://localhost:8080/",
          "height": 54
        }
      },
      "source": [
        "def lista_de_num():\n",
        "  lista = []\n",
        "  for num in range(1500, 2701):\n",
        "    if num % 7 == 0 and num % 5 == 0: \n",
        "      lista.append(num)\n",
        "  return lista\n",
        "print(lista_de_num())"
      ],
      "execution_count": 18,
      "outputs": [
        {
          "output_type": "stream",
          "text": [
            "[1505, 1540, 1575, 1610, 1645, 1680, 1715, 1750, 1785, 1820, 1855, 1890, 1925, 1960, 1995, 2030, 2065, 2100, 2135, 2170, 2205, 2240, 2275, 2310, 2345, 2380, 2415, 2450, 2485, 2520, 2555, 2590, 2625, 2660, 2695]\n"
          ],
          "name": "stdout"
        }
      ]
    },
    {
      "cell_type": "markdown",
      "metadata": {
        "id": "IBiIltBERVkC"
      },
      "source": [
        "## 8\n",
        "Escreva uma função que retorne uma lista de números que:\n",
        "- Sejam divisíveis por 7 **OU** múltiplos de 5\n",
        "- Estejam entre 1500 e 2700"
      ]
    },
    {
      "cell_type": "markdown",
      "metadata": {
        "id": "76jTVZm_RVkF"
      },
      "source": [
        "## 9\n",
        "Escreva uma função que imprima na tela todos os números de 0 a 6, com exceção de 3 e 6.\n",
        "- Dica: Use a palavra-chave \"continue\""
      ]
    },
    {
      "cell_type": "code",
      "metadata": {
        "id": "CFguCwcTRVkH",
        "outputId": "085343b3-cf31-4137-d9c9-98d325eee0ce",
        "colab": {
          "base_uri": "https://localhost:8080/",
          "height": 102
        }
      },
      "source": [
        "def impri_nuns():\n",
        "  for num in range(0, 7):\n",
        "    if num in [3, 6]:\n",
        "      continue\n",
        "    print(num)\n",
        "impri_nuns()"
      ],
      "execution_count": 19,
      "outputs": [
        {
          "output_type": "stream",
          "text": [
            "0\n",
            "1\n",
            "2\n",
            "4\n",
            "5\n"
          ],
          "name": "stdout"
        }
      ]
    },
    {
      "cell_type": "markdown",
      "metadata": {
        "id": "LuZXfIYsRVko"
      },
      "source": [
        "## 10\n",
        "Escreva uma função que cheque se uma letra é uma vogal ou uma consoante, retornando:\n",
        "- Verdadeiro se for vogal\n",
        "- Falso se for consoante"
      ]
    },
    {
      "cell_type": "code",
      "metadata": {
        "id": "u26I-pYxRVk6",
        "outputId": "acce272f-f207-4ce8-d292-0e68eecf34c2",
        "colab": {
          "base_uri": "https://localhost:8080/",
          "height": 51
        }
      },
      "source": [
        "def checa_vogal(letra):\n",
        "  if letra in ['a','e','i','o','u']:\n",
        "    return True\n",
        "  else:\n",
        "    return False \n",
        "print(checa_vogal(\"a\"))\n",
        "print(checa_vogal(\"m\"))"
      ],
      "execution_count": 23,
      "outputs": [
        {
          "output_type": "stream",
          "text": [
            "True\n",
            "False\n"
          ],
          "name": "stdout"
        }
      ]
    },
    {
      "cell_type": "markdown",
      "metadata": {
        "id": "BduP0lkQRVlk"
      },
      "source": [
        "## 11\n",
        "Escreva uma função que imprima o seguinte padrão na tela:\n",
        "\n",
        "```\n",
        "1\n",
        "22\n",
        "333\n",
        "4444\n",
        "55555\n",
        "666666\n",
        "7777777\n",
        "88888888\n",
        "999999999\n",
        "```"
      ]
    },
    {
      "cell_type": "code",
      "metadata": {
        "id": "dbkET3akRVlo",
        "outputId": "4d1cc7e8-8434-4e63-f078-3c68e62247e0",
        "colab": {
          "base_uri": "https://localhost:8080/",
          "height": 170
        }
      },
      "source": [
        "def imprime_padrao():\n",
        "  for num in range(1, 10):\n",
        "    print(num*str(num))\n",
        "imprime_padrao()"
      ],
      "execution_count": 24,
      "outputs": [
        {
          "output_type": "stream",
          "text": [
            "1\n",
            "22\n",
            "333\n",
            "4444\n",
            "55555\n",
            "666666\n",
            "7777777\n",
            "88888888\n",
            "999999999\n"
          ],
          "name": "stdout"
        }
      ]
    },
    {
      "cell_type": "markdown",
      "metadata": {
        "id": "NVgACCQTRVmH"
      },
      "source": [
        "## 12\n",
        "Para uma equação de segundo grau $ax^2 + bx + c$, o número de raízes reais é definido pelo valor de delta <nobr>($ \\Delta = b^2 -4ac $).</nobr>\n",
        "\n",
        "- Se $ \\Delta > 0 $ : Duas raízes\n",
        "- Se $ \\Delta = 0 $ : Uma raíz\n",
        "- Se $ \\Delta < 0 $ : Nenhuma raíz\n",
        "\n",
        "Assim sendo, escreva uma função que receba os coeficientes da equação de 2º grau (a, b e c) e, com base nesses coeficientes, te diga automaticamente quantas raízes essa equação possui."
      ]
    },
    {
      "cell_type": "code",
      "metadata": {
        "id": "vKg6sDFPRVmJ",
        "outputId": "0103bd8c-31d4-4e27-e8eb-d869cbe4c9d1",
        "colab": {
          "base_uri": "https://localhost:8080/",
          "height": 34
        }
      },
      "source": [
        "def quantas_raizes(a, b, c):\n",
        "  delta = b**2 - 4*a*c \n",
        "  if delta > 0:\n",
        "    print(\"duas raizes\")\n",
        "  elif delta == 0:\n",
        "    print(\"uma raiz \")\n",
        "  else: \n",
        "    print(\"nenhuma raiz\")\n",
        "quantas_raizes(1,1,1)\n"
      ],
      "execution_count": 26,
      "outputs": [
        {
          "output_type": "stream",
          "text": [
            "nenhuma raiz\n"
          ],
          "name": "stdout"
        }
      ]
    },
    {
      "cell_type": "markdown",
      "metadata": {
        "id": "2PHf5qQxRVm0"
      },
      "source": [
        "## 13 \n",
        "\n",
        "Crie uma função que receba os coeficientes de uma equação de 2º grau (a, b e c) e retorne o valor de sua(s) raíz(es) ou imprima a mensagem \"Sem raíz real\" caso não possua raíz.\n",
        "\n",
        "Lembre-se que a resolução das raízes é feita usando a **Fórmula de Bhaskara**:\n",
        "\n",
        "<p style=\"font-size:16pt; text-align:center\"> $ x = \\frac{-b \\pm\\sqrt{b^2 - 4ac}}{2a} $</p>"
      ]
    },
    {
      "cell_type": "code",
      "metadata": {
        "id": "IKfqefSQRVnH",
        "outputId": "bd98b3b3-168d-46c5-8674-b2818e1a0ca1",
        "colab": {
          "base_uri": "https://localhost:8080/",
          "height": 35
        }
      },
      "source": [
        "def bhas(a, b, c):\n",
        "  delta = b**2 - 4*a*c\n",
        "  bhas1 = (-b + delta**0.5) / 2*a\n",
        "  bhas2 = (-b - delta**0.5) / 2*a\n",
        "  if delta > 0: \n",
        "    return \"duas raizes: {} e {}\".format(bhas1, bhas2)\n",
        "  elif delta == 0:\n",
        "    return \"uma raiz: {}\".format(bhas1)\n",
        "  else:\n",
        "    return \"sem raiz real\"\n",
        "bhas(1,2,1)\n"
      ],
      "execution_count": 27,
      "outputs": [
        {
          "output_type": "execute_result",
          "data": {
            "application/vnd.google.colaboratory.intrinsic+json": {
              "type": "string"
            },
            "text/plain": [
              "'uma raiz: -1.0'"
            ]
          },
          "metadata": {
            "tags": []
          },
          "execution_count": 27
        }
      ]
    }
  ]
}