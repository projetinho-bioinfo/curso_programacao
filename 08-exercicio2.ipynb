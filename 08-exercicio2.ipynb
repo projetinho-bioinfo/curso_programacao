{
  "nbformat": 4,
  "nbformat_minor": 0,
  "metadata": {
    "kernelspec": {
      "display_name": "Python 3",
      "language": "python",
      "name": "python3"
    },
    "language_info": {
      "codemirror_mode": {
        "name": "ipython",
        "version": 3
      },
      "file_extension": ".py",
      "mimetype": "text/x-python",
      "name": "python",
      "nbconvert_exporter": "python",
      "pygments_lexer": "ipython3",
      "version": "3.8.3"
    },
    "colab": {
      "name": "08-exercicio2.ipynb",
      "provenance": []
    }
  },
  "cells": [
    {
      "cell_type": "markdown",
      "metadata": {
        "id": "bbLFzLGdY4-p"
      },
      "source": [
        "# Exercícios"
      ]
    },
    {
      "cell_type": "markdown",
      "metadata": {
        "id": "Be8zDYP7Y4-s"
      },
      "source": [
        "## 1\n",
        "Crie uma função que receba uma lista como argumento e some todos os seus itens."
      ]
    },
    {
      "cell_type": "code",
      "metadata": {
        "id": "3ytHAzHeY4-u",
        "outputId": "767856aa-ff39-47a9-e194-f488610fed14",
        "colab": {
          "base_uri": "https://localhost:8080/"
        }
      },
      "source": [
        "sum([1, 2, 3, 4, 5])\n"
      ],
      "execution_count": null,
      "outputs": [
        {
          "output_type": "execute_result",
          "data": {
            "text/plain": [
              "15"
            ]
          },
          "metadata": {
            "tags": []
          },
          "execution_count": 131
        }
      ]
    },
    {
      "cell_type": "markdown",
      "metadata": {
        "id": "3Z11dgLMY4-7"
      },
      "source": [
        "## 2\n",
        "Crie uma função que: \n",
        "- receba uma lista e um número como argumentos, e \n",
        "- retorne uma nova lista com cada elemento da lista original multiplicado pelo número"
      ]
    },
    {
      "cell_type": "code",
      "metadata": {
        "id": "9WFcigqSY4--"
      },
      "source": [
        "lista = [\"carro, moto, bicicleta\"]\n",
        "def multiplicação(num):\n",
        "      print([lista*num])\n",
        "multiplicação(2)"
      ],
      "execution_count": null,
      "outputs": []
    },
    {
      "cell_type": "markdown",
      "metadata": {
        "id": "_JjTr_P0Y4_M"
      },
      "source": [
        "## 3\n",
        "Crie uma função que retorne o maior número presente em uma lista"
      ]
    },
    {
      "cell_type": "code",
      "metadata": {
        "id": "WJtdRSZEY4_P",
        "outputId": "b5f362fb-c041-4b6d-99fe-8713909e641e",
        "colab": {
          "base_uri": "https://localhost:8080/"
        }
      },
      "source": [
        "números = [1, 2, 5, 2, 7, 4, 4, 15, 8]\n",
        "números.sort()\n",
        "print(números[-1])"
      ],
      "execution_count": null,
      "outputs": [
        {
          "output_type": "stream",
          "text": [
            "15\n"
          ],
          "name": "stdout"
        }
      ]
    },
    {
      "cell_type": "markdown",
      "metadata": {
        "id": "7RYffBOaY4_l"
      },
      "source": [
        "## 4\n",
        "Crie uma função que remova valores duplicados de uma lista"
      ]
    },
    {
      "cell_type": "code",
      "metadata": {
        "id": "tTFNfDBRY4_q"
      },
      "source": [
        "\n",
        "\n",
        "       \n",
        "\n"
      ],
      "execution_count": null,
      "outputs": []
    },
    {
      "cell_type": "markdown",
      "metadata": {
        "id": "cNAywct_Y4_-"
      },
      "source": [
        "## 5\n",
        "Crie uma função que cheque se uma lista é vazia ou não, a qual deve:\n",
        "- Retornar verdadeiro (True) se a lista tiver algum elemento\n",
        "- Retornar falso (False) se a lista for vazia"
      ]
    },
    {
      "cell_type": "code",
      "metadata": {
        "id": "N6o-30A6Y5AA",
        "outputId": "d3c3e2d1-1f93-4890-d6f2-8881672fd919",
        "colab": {
          "base_uri": "https://localhost:8080/"
        }
      },
      "source": [
        "def verificação(lista):\n",
        "   print(lista!=[])\n",
        "verificação(números)"
      ],
      "execution_count": null,
      "outputs": [
        {
          "output_type": "stream",
          "text": [
            "True\n"
          ],
          "name": "stdout"
        }
      ]
    },
    {
      "cell_type": "markdown",
      "metadata": {
        "id": "wO68mZ-VY5AP"
      },
      "source": [
        "## 6\n",
        "Escreva uma função que receba duas listas e:\n",
        "- Retorne verdadeiro se as listas tiverem algum elemento em comum\n",
        "- Retorne falso caso contrário"
      ]
    },
    {
      "cell_type": "code",
      "metadata": {
        "id": "UROqRnnbY5AS"
      },
      "source": [
        "números = [1, 2, 5, 2, 7, 4, 4, 15, 8]\n",
        "números2 = [1, 2, 3, 4, 5, 6]\n",
        "for num1 in números:\n",
        " for num2 in números2:\n",
        "      if [num1]==[num2]:\n",
        "        print(True)\n",
        "        break\n",
        "      if [num1]!=[num2]:\n",
        "        print(False)\n",
        "#não consegui dazer sem ser comparando os elementos 1 por 1"
      ],
      "execution_count": null,
      "outputs": []
    },
    {
      "cell_type": "markdown",
      "metadata": {
        "id": "PuLBHaxfY5Ag"
      },
      "source": [
        "## 7\n",
        "Escreva uma função que retorne uma lista de números que:\n",
        "- Sejam divisíveis por 7 **E** múltiplos de 5\n",
        "- Estejam entre 1500 e 2700"
      ]
    },
    {
      "cell_type": "code",
      "metadata": {
        "id": "0V9CEey8Y5Ai"
      },
      "source": [
        " list(range(1505, 2701, 35))\n"
      ],
      "execution_count": null,
      "outputs": []
    },
    {
      "cell_type": "markdown",
      "metadata": {
        "id": "gdtAzuILY5Ao"
      },
      "source": [
        "texto em itálico## 8\n",
        "Escreva uma função que retorne uma lista de números que:\n",
        "- Sejam divisíveis por 7 **OU** múltiplos de 5\n",
        "- Estejam entre 1500 e 2700"
      ]
    },
    {
      "cell_type": "code",
      "metadata": {
        "id": "fQSzKj3Dg-OB"
      },
      "source": [
        "list(range(1505, 2701, 7)) + list(range(1500, 2701, 5))"
      ],
      "execution_count": null,
      "outputs": []
    },
    {
      "cell_type": "markdown",
      "metadata": {
        "id": "X07e0BsLY5Aq"
      },
      "source": [
        "## 9\n",
        "Escreva uma função que imprima na tela todos os números de 0 a 6, com exceção de 3 e 6.\n",
        "- Dica: Use a palavra-chave \"continue\""
      ]
    },
    {
      "cell_type": "code",
      "metadata": {
        "id": "kmW40A8dY5A0"
      },
      "source": [
        "l3 = [0, 1, 2, 3, 4, 5, 6]\n",
        "l3.remove(3)\n",
        "l3.remove(6)\n",
        "for num in l3:\n",
        "  print(num)"
      ],
      "execution_count": null,
      "outputs": []
    },
    {
      "cell_type": "markdown",
      "metadata": {
        "id": "OEvQxTyLY5A7"
      },
      "source": [
        "## 10\n",
        "Escreva uma função que cheque se uma letra é uma vogal ou uma consoante, retornando:\n",
        "- Verdadeiro se for vogal\n",
        "- Falso se for consoante"
      ]
    },
    {
      "cell_type": "code",
      "metadata": {
        "id": "MxnGCXZaY5A8"
      },
      "source": [
        "vogais = ['a', 'e', 'i', 'o', 'u']\n",
        "def verif(letra2):\n",
        "  for letra in vogais:\n",
        "    if letra == letra2:\n",
        "      print(\"verdadeiro\")\n",
        "      break\n",
        "    else:\n",
        "      print(\"falso\")\n",
        "verif('i')\n",
        "\n",
        "# não consigo fazer com um só resultado"
      ],
      "execution_count": null,
      "outputs": []
    },
    {
      "cell_type": "markdown",
      "metadata": {
        "id": "gOcRWYhdY5BC"
      },
      "source": [
        "## 11\n",
        "Escreva uma função que imprima o seguinte padrão na tela:\n",
        "\n",
        "```\n",
        "1\n",
        "22\n",
        "333\n",
        "4444\n",
        "55555\n",
        "666666\n",
        "7777777\n",
        "88888888\n",
        "999999999\n",
        "```"
      ]
    },
    {
      "cell_type": "code",
      "metadata": {
        "id": "fHKflyhxY5BF"
      },
      "source": [
        "\n",
        "num_l = ['1', '2', '3', '4', '5', '6', '7', '8', '9']\n",
        "num_n = [1, 2, 3, 4, 5, 6, 7, 8, 9]\n",
        "for num in num_l:\n",
        "  for n in num_n:\n",
        "    print(num*n)\n",
        "    if num == str(n):\n",
        "     num_n.remove(n)\n",
        "    break"
      ],
      "execution_count": null,
      "outputs": []
    },
    {
      "cell_type": "markdown",
      "metadata": {
        "id": "sw-zySVmY5BR"
      },
      "source": [
        "## 12\n",
        "Para uma equação de segundo grau $ax^2 + bx + c$, o número de raízes reais é definido pelo valor de delta <nobr>($ \\Delta = b^2 -4ac $).</nobr>\n",
        "\n",
        "- Se $ \\Delta > 0 $ : Duas raízes\n",
        "- Se $ \\Delta = 0 $ : Uma raíz\n",
        "- Se $ \\Delta < 0 $ : Nenhuma raíz\n",
        "\n",
        "Assim sendo, escreva uma função que receba os coeficientes da equação de 2º grau (a, b e c) e, com base nesses coeficientes, te diga automaticamente quantas raízes essa equação possui."
      ]
    },
    {
      "cell_type": "code",
      "metadata": {
        "id": "91BXtFZaY5BS"
      },
      "source": [
        "def delta(a, b, c):\n",
        "    return (b*b)-4*(a*c)\n",
        "resultado = delta\n",
        "if resultado == (0):\n",
        "    print(\"uma raiz\") \n",
        "#ERRO\n",
        "\n",
        "\n",
        "delta(1, -10, 25)"
      ],
      "execution_count": null,
      "outputs": []
    },
    {
      "cell_type": "markdown",
      "metadata": {
        "id": "jGUKHGloY5BY"
      },
      "source": [
        "## 13 \n",
        "\n",
        "Crie uma função que receba os coeficientes de uma equação de 2º grau (a, b e c) e retorne o valor de sua(s) raíz(es) ou imprima a mensagem \"Sem raíz real\" caso não possua raíz.\n",
        "\n",
        "Lembre-se que a resolução das raízes é feita usando a **Fórmula de Bhaskara**:\n",
        "\n",
        "<p style=\"font-size:16pt; text-align:center\"> $ x = \\frac{-b \\pm\\sqrt{b^2 - 4ac}}{2a} $</p>"
      ]
    },
    {
      "cell_type": "code",
      "metadata": {
        "id": "kBYs-Wn8Y5Ba"
      },
      "source": [
        ""
      ],
      "execution_count": null,
      "outputs": []
    }
  ]
}