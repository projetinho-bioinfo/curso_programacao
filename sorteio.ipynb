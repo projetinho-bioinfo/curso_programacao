{
 "cells": [
  {
   "cell_type": "code",
   "execution_count": null,
   "metadata": {
    "colab": {},
    "colab_type": "code",
    "id": "R1h47zK6ZiTG"
   },
   "outputs": [],
   "source": [
    "import random # Módulo para gerar numeros aleatórios\n",
    "\n",
    "def sorteio_grupos(): # Definindo a função\n",
    "    orientadores = [\"Fabiana\", \"Vivian\", \"Bruna\", \"Tayná\", \"Gileno\", \"Larissa\"] # Lista de nomes dos orientadores\n",
    "    num_grupo = 1 # Número do grupo\n",
    "    while orientadores: # Enquanto a lista de orientadores tiver pelo menos um nome, execute isso\n",
    "        print(\"Grupo {}: {}\".format(num_grupo, orientadores.pop(random.randint(0, len(orientadores) - 1)))) # Imprimir na tela o grupo e sortear um orientador para ele. O nome daquele orientador vai ser removido da lista\n",
    "        num_grupo = num_grupo + 1 # Número do grupo muda a cada loop"
   ]
  },
  {
   "cell_type": "code",
   "execution_count": null,
   "metadata": {
    "colab": {},
    "colab_type": "code",
    "id": "ZjAAAQOWZiTM",
    "outputId": "da1e567e-4c00-4a68-b212-25182c886b42"
   },
   "outputs": [
    {
     "name": "stdout",
     "output_type": "stream",
     "text": [
      "Grupo 1: Larissa\n",
      "Grupo 2: Vivian\n",
      "Grupo 3: Tayná\n",
      "Grupo 4: Bruna\n",
      "Grupo 5: Gileno\n",
      "Grupo 6: Fabiana\n"
     ]
    }
   ],
   "source": [
    "sorteio_grupos() # Chamando função para sortear os grupos"
   ]
  },
  {
   "cell_type": "code",
   "execution_count": 17,
   "metadata": {
    "colab": {},
    "colab_type": "code",
    "id": "3W2NVU_KZiTR"
   },
   "outputs": [],
   "source": [
    "import random # Módulo para gerar numeros aleatórios\n",
    "\n",
    "def sorteio_especies(): # Definindo a função\n",
    "    especies = [\"Btimberlakei\", \"Sbicolor\", \"Asimoni\", \"Pamabilis\", \"Cmorschi\"] # lista de espécies\n",
    "    projetiners = [\"luizscheffer\", \"jurizzo\", \"joaoc-ramalho\", \"marianamunch\", \"renan-r-f\", \"manubfsouza\", \"juliamarinatto\"] # Lista de projetiners\n",
    "    while projetiners: # Enquanto a lista de projetiners tiver pelo menos um nome, execute isso\n",
    "        if especies == []: # Se a lista ficar sem espécies\n",
    "          especies = [\"Btimberlakei\", \"Sbicolor\", \"Asimoni\", \"Pamabilis\", \"Cmorschi\"] # Recrie a lista de espécies\n",
    "        print(\"{}:\\t{}\".format(projetiners.pop(0), especies.pop(random.randint(0, len(especies) - 1)))) # Imprimir na tela um projetiner e sortear aleatoriamente uma espécie para ele. O nome do projeiner vai ser removido da lista"
   ]
  },
  {
   "cell_type": "code",
   "execution_count": 16,
   "metadata": {
    "colab": {
     "base_uri": "https://localhost:8080/",
     "height": 134
    },
    "colab_type": "code",
    "id": "-6J0g0TshN5s",
    "outputId": "d6e4cb86-f00e-416b-d6e7-88f669dcdb04"
   },
   "outputs": [
    {
     "name": "stdout",
     "output_type": "stream",
     "text": [
      "luizscheffer:\t\tBtimberlakei\n",
      "jurizzo:\t\tPamabilis\n",
      "joaoc-ramalho:\t\tSbicolor\n",
      "marianamunch:\t\tAsimoni\n",
      "renan-r-f:\t\tCmorschi\n",
      "manubfsouza:\t\tAsimoni\n",
      "juliamarinatto:\t\tBtimberlakei\n"
     ]
    }
   ],
   "source": [
    "sorteio_especies()"
   ]
  },
  {
   "cell_type": "code",
   "execution_count": 19,
   "metadata": {
    "colab": {},
    "colab_type": "code",
    "id": "Q-WjhfQKlcvF"
   },
   "outputs": [],
   "source": [
    "import random # Módulo para gerar numeros aleatórios\n",
    "\n",
    "def sorteio_especies3(): # Definindo a função\n",
    "    especies = [\"Btimberlakei\", \"Sbicolor\", \"Asimoni\", \"Pamabilis\"] # lista de espécies\n",
    "    projetiners = [\"marianamunch\", \"renan-r-f\", \"manubfsouza\"] # Lista de projetiners\n",
    "    while projetiners: # Enquanto a lista de projetiners tiver pelo menos um nome, execute isso\n",
    "        print(\"{}:\\t{}\".format(projetiners.pop(0), especies.pop(random.randint(0, len(especies) - 1)))) # Imprimir na tela um projetiner e sortear aleatoriamente uma espécie para ele. O nome do projeiner vai ser removido da lista"
   ]
  },
  {
   "cell_type": "code",
   "execution_count": 23,
   "metadata": {
    "colab": {
     "base_uri": "https://localhost:8080/",
     "height": 67
    },
    "colab_type": "code",
    "id": "xBNfk2NPnipY",
    "outputId": "3cf90e16-38aa-4e7b-b9bb-541f8704d2fa"
   },
   "outputs": [
    {
     "name": "stdout",
     "output_type": "stream",
     "text": [
      "marianamunch:\tSbicolor\n",
      "renan-r-f:\tBtimberlakei\n",
      "manubfsouza:\tAsimoni\n"
     ]
    }
   ],
   "source": [
    "sorteio_especies3()"
   ]
  },
  {
   "cell_type": "markdown",
   "metadata": {},
   "source": [
    "Vamos criar uma função para sortear um nome de uma lista de nomes:"
   ]
  },
  {
   "cell_type": "code",
   "execution_count": 13,
   "metadata": {
    "colab": {},
    "colab_type": "code",
    "id": "t-ImKuMJnoA8"
   },
   "outputs": [
    {
     "data": {
      "text/plain": [
       "'Gabriel'"
      ]
     },
     "execution_count": 13,
     "metadata": {},
     "output_type": "execute_result"
    }
   ],
   "source": [
    "from random import randint\n",
    "\n",
    "# Função que recebe uma lista com nomes como argumento e escolhe um deles aleatoriamente\n",
    "def sorteio_de_nome(lista_de_nomes):\n",
    "    return lista_de_nomes[randint(0, len(lista_de_nomes) - 1 )]\n",
    "\n",
    "sorteio_de_nome([\"Gabriel\", \"Ágata\", \"Andrea\", \"Ruan\"])"
   ]
  }
 ],
 "metadata": {
  "colab": {
   "name": "sorteio.ipynb",
   "provenance": []
  },
  "kernelspec": {
   "display_name": "Python 3",
   "language": "python",
   "name": "python3"
  },
  "language_info": {
   "codemirror_mode": {
    "name": "ipython",
    "version": 3
   },
   "file_extension": ".py",
   "mimetype": "text/x-python",
   "name": "python",
   "nbconvert_exporter": "python",
   "pygments_lexer": "ipython3",
   "version": "3.8.3"
  }
 },
 "nbformat": 4,
 "nbformat_minor": 4
}
